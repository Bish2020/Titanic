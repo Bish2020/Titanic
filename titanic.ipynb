{
 "cells": [
  {
   "cell_type": "code",
   "execution_count": 1,
   "id": "74b0a3cc",
   "metadata": {},
   "outputs": [],
   "source": [
    "import numpy as np\n",
    "import scipy.io\n",
    "from scipy.special import expit\n",
    "import matplotlib.pyplot as plt"
   ]
  },
  {
   "cell_type": "code",
   "execution_count": 2,
   "id": "248e4681",
   "metadata": {},
   "outputs": [],
   "source": [
    "%run 'decision_tree_starter.py'"
   ]
  },
  {
   "cell_type": "markdown",
   "id": "52ee7807",
   "metadata": {},
   "source": [
    "Question 4.4"
   ]
  },
  {
   "cell_type": "markdown",
   "id": "348d9a6e",
   "metadata": {},
   "source": [
    "LOADING DATA"
   ]
  },
  {
   "cell_type": "code",
   "execution_count": 3,
   "id": "161b3dac",
   "metadata": {},
   "outputs": [
    {
     "name": "stdout",
     "output_type": "stream",
     "text": [
      "\n",
      "\n",
      "Part (b): preprocessing the titanic dataset\n",
      "Train/valid/test size: (800, 14) (199, 14) (310, 14)\n",
      "['pclass', 'sex', 'age', 'sibsp', 'parch', 'ticket', 'fare', 'cabin', 'embarked', 'male', 'female', 'S', 'C', 'Q']\n"
     ]
    },
    {
     "name": "stderr",
     "output_type": "stream",
     "text": [
      "/Users/bishwassherchan/Desktop/HW5/hw5 code/decision_tree_starter.py:208: FutureWarning: Unlike other reduction functions (e.g. `skew`, `kurtosis`), the default behavior of `mode` typically preserves the axis it acts along. In SciPy 1.11.0, this behavior will change: the default value of `keepdims` will become False, the `axis` over which the statistic is taken will be eliminated, and the value None will no longer be accepted. Set `keepdims` to True or False to avoid this warning.\n",
      "  mode = stats.mode(data[((data[:, i] < -1 - eps) +\n"
     ]
    }
   ],
   "source": [
    "t_all_data , t_all_label, t_valid_data, t_valid_label, t_train_data, t_train_label, t_features, t_test_data = load('titanic')"
   ]
  },
  {
   "cell_type": "code",
   "execution_count": 4,
   "id": "5f478362",
   "metadata": {},
   "outputs": [
    {
     "name": "stdout",
     "output_type": "stream",
     "text": [
      "Train/valid/test size: (4224, 32) (1056, 32) (5749, 32)\n",
      "['pain', 'private', 'bank', 'money', 'drug', 'spam', 'prescription', 'creative', 'height', 'featured', 'differ', 'width', 'other', 'energy', 'business', 'message', 'volumes', 'revision', 'path', 'meter', 'memo', 'planning', 'pleased', 'record', 'out', 'semicolon', 'dollar', 'sharp', 'exclamation', 'parenthesis', 'square_bracket', 'ampersand']\n"
     ]
    }
   ],
   "source": [
    "s_all_data , s_all_label, s_valid_data, s_valid_label, s_train_data, s_train_label, s_features, s_test_data = load('spam')"
   ]
  },
  {
   "cell_type": "markdown",
   "id": "1592af72",
   "metadata": {},
   "source": [
    "TITANIC DATASET (DECISION TREE AND RANDOM FOREST TRAINING)"
   ]
  },
  {
   "cell_type": "code",
   "execution_count": 5,
   "id": "9ac2c12a",
   "metadata": {},
   "outputs": [
    {
     "name": "stdout",
     "output_type": "stream",
     "text": [
      "Model: Decision Tree\n",
      "Accuracy_Train 0.7975\n",
      "Accuracy_Valid  0.8040201005025126\n"
     ]
    },
    {
     "name": "stderr",
     "output_type": "stream",
     "text": [
      "/Users/bishwassherchan/Desktop/HW5/hw5 code/decision_tree_starter.py:102: FutureWarning: Unlike other reduction functions (e.g. `skew`, `kurtosis`), the default behavior of `mode` typically preserves the axis it acts along. In SciPy 1.11.0, this behavior will change: the default value of `keepdims` will become False, the `axis` over which the statistic is taken will be eliminated, and the value None will no longer be accepted. Set `keepdims` to True or False to avoid this warning.\n",
      "  self.pred = stats.mode(y).mode[0]\n"
     ]
    },
    {
     "data": {
      "text/plain": [
       "0.8040201005025126"
      ]
     },
     "execution_count": 5,
     "metadata": {},
     "output_type": "execute_result"
    }
   ],
   "source": [
    "(model('dTree', 3, t_all_data , t_all_label, t_valid_data,\n",
    "       t_valid_label, t_train_data, t_train_label, t_features, 'train',t_test_data))"
   ]
  },
  {
   "cell_type": "code",
   "execution_count": 6,
   "id": "615d7877",
   "metadata": {},
   "outputs": [
    {
     "name": "stdout",
     "output_type": "stream",
     "text": [
      "Model: Random Forest\n"
     ]
    },
    {
     "name": "stderr",
     "output_type": "stream",
     "text": [
      "/Users/bishwassherchan/Desktop/HW5/hw5 code/decision_tree_starter.py:99: FutureWarning: Unlike other reduction functions (e.g. `skew`, `kurtosis`), the default behavior of `mode` typically preserves the axis it acts along. In SciPy 1.11.0, this behavior will change: the default value of `keepdims` will become False, the `axis` over which the statistic is taken will be eliminated, and the value None will no longer be accepted. Set `keepdims` to True or False to avoid this warning.\n",
      "  self.pred = stats.mode(y).mode[0]\n"
     ]
    },
    {
     "name": "stdout",
     "output_type": "stream",
     "text": [
      "Accuracy_Train 0.90375\n",
      "Accuracy_Valid  0.8140703517587939\n"
     ]
    },
    {
     "data": {
      "text/plain": [
       "0.8140703517587939"
      ]
     },
     "execution_count": 6,
     "metadata": {},
     "output_type": "execute_result"
    }
   ],
   "source": [
    "(model('rf', 10, t_all_data , t_all_label, t_valid_data,\n",
    "       t_valid_label, t_train_data, t_train_label, t_features,\n",
    "       'train', t_test_data))"
   ]
  },
  {
   "cell_type": "markdown",
   "id": "5df0e0db",
   "metadata": {},
   "source": [
    "SPAM DATASET (DECISION TREE AND RANDOM FOREST TRAINING)"
   ]
  },
  {
   "cell_type": "code",
   "execution_count": 7,
   "id": "ed5784f8",
   "metadata": {},
   "outputs": [
    {
     "name": "stdout",
     "output_type": "stream",
     "text": [
      "Model: Decision Tree\n",
      "Accuracy_Train 0.8525094696969697\n",
      "Accuracy_Valid  0.8229166666666666\n"
     ]
    },
    {
     "data": {
      "text/plain": [
       "0.8229166666666666"
      ]
     },
     "execution_count": 7,
     "metadata": {},
     "output_type": "execute_result"
    }
   ],
   "source": [
    "(model('dTree', 9, s_all_data , s_all_label, s_valid_data,\n",
    "       s_valid_label, s_train_data, s_train_label, s_features,\n",
    "       'train', s_test_data))"
   ]
  },
  {
   "cell_type": "code",
   "execution_count": 8,
   "id": "c7fa112a",
   "metadata": {},
   "outputs": [
    {
     "name": "stdout",
     "output_type": "stream",
     "text": [
      "Model: Random Forest\n",
      "Accuracy_Train 0.734375\n",
      "Accuracy_Valid  0.7386363636363636\n"
     ]
    },
    {
     "data": {
      "text/plain": [
       "0.7386363636363636"
      ]
     },
     "execution_count": 8,
     "metadata": {},
     "output_type": "execute_result"
    }
   ],
   "source": [
    "(model('rf', 9, s_all_data , s_all_label, s_valid_data,\n",
    "       s_valid_label, s_train_data, s_train_label, s_features, \n",
    "       'train',s_test_data, 6))"
   ]
  },
  {
   "cell_type": "markdown",
   "id": "86eefe0d",
   "metadata": {},
   "source": [
    "SPAM TEST PREDICTION"
   ]
  },
  {
   "cell_type": "code",
   "execution_count": 9,
   "id": "5d7a6da3",
   "metadata": {},
   "outputs": [
    {
     "name": "stdout",
     "output_type": "stream",
     "text": [
      "Model: Decision Tree\n"
     ]
    },
    {
     "data": {
      "text/plain": [
       "0"
      ]
     },
     "execution_count": 9,
     "metadata": {},
     "output_type": "execute_result"
    }
   ],
   "source": [
    "#SPAM TEST PREDICTION\n",
    "(model('dTree', 9, s_all_data , s_all_label, s_valid_data,\n",
    "       s_valid_label, s_train_data, s_train_label, s_features, \n",
    "       'test', s_test_data))"
   ]
  },
  {
   "cell_type": "markdown",
   "id": "542b3d37",
   "metadata": {},
   "source": [
    "TITANIC TEST PREDICTION"
   ]
  },
  {
   "cell_type": "code",
   "execution_count": 10,
   "id": "da79f8d3",
   "metadata": {},
   "outputs": [
    {
     "name": "stdout",
     "output_type": "stream",
     "text": [
      "Model: Random Forest\n"
     ]
    },
    {
     "data": {
      "text/plain": [
       "0"
      ]
     },
     "execution_count": 10,
     "metadata": {},
     "output_type": "execute_result"
    }
   ],
   "source": [
    "#TITANIC TEST PREDICTION\n",
    "(model('rf', 10, t_all_data , t_all_label, t_valid_data,\n",
    "       t_valid_label, t_train_data, t_train_label, t_features, 'test', t_test_data))"
   ]
  },
  {
   "cell_type": "markdown",
   "id": "89d86197",
   "metadata": {},
   "source": [
    "QUESTION 4.3"
   ]
  },
  {
   "cell_type": "code",
   "execution_count": null,
   "id": "38cc5604",
   "metadata": {},
   "outputs": [
    {
     "name": "stdout",
     "output_type": "stream",
     "text": [
      "1\n",
      "Model: Decision Tree\n",
      "Accuracy_Train 0.7476325757575758\n",
      "Accuracy_Valid  0.7462121212121212\n",
      "2\n",
      "Model: Decision Tree\n",
      "Accuracy_Train 0.7582859848484849\n",
      "Accuracy_Valid  0.7632575757575758\n",
      "3\n",
      "Model: Decision Tree\n",
      "Accuracy_Train 0.7964015151515151\n",
      "Accuracy_Valid  0.7916666666666666\n",
      "4\n",
      "Model: Decision Tree\n",
      "Accuracy_Train 0.8110795454545454\n",
      "Accuracy_Valid  0.8001893939393939\n",
      "5\n",
      "Model: Decision Tree\n",
      "Accuracy_Train 0.8267045454545454\n",
      "Accuracy_Valid  0.803030303030303\n",
      "6\n",
      "Model: Decision Tree\n",
      "Accuracy_Train 0.8364109848484849\n",
      "Accuracy_Valid  0.8172348484848485\n",
      "7\n",
      "Model: Decision Tree\n",
      "Accuracy_Train 0.8409090909090909\n",
      "Accuracy_Valid  0.8191287878787878\n",
      "8\n",
      "Model: Decision Tree\n",
      "Accuracy_Train 0.8468276515151515\n",
      "Accuracy_Valid  0.8210227272727273\n",
      "9\n",
      "Model: Decision Tree\n",
      "Accuracy_Train 0.8525094696969697\n",
      "Accuracy_Valid  0.8229166666666666\n",
      "10\n",
      "Model: Decision Tree\n",
      "Accuracy_Train 0.8581912878787878\n",
      "Accuracy_Valid  0.821969696969697\n",
      "11\n",
      "Model: Decision Tree\n",
      "Accuracy_Train 0.8612689393939394\n",
      "Accuracy_Valid  0.8210227272727273\n",
      "12\n",
      "Model: Decision Tree\n",
      "Accuracy_Train 0.8652935606060606\n",
      "Accuracy_Valid  0.8200757575757576\n",
      "13\n",
      "Model: Decision Tree\n",
      "Accuracy_Train 0.8693181818181818\n",
      "Accuracy_Valid  0.8200757575757576\n",
      "14\n",
      "Model: Decision Tree\n",
      "Accuracy_Train 0.8735795454545454\n",
      "Accuracy_Valid  0.8125\n",
      "15\n",
      "Model: Decision Tree\n",
      "Accuracy_Train 0.8761837121212122\n",
      "Accuracy_Valid  0.8153409090909091\n",
      "16\n",
      "Model: Decision Tree\n",
      "Accuracy_Train 0.8790246212121212\n",
      "Accuracy_Valid  0.8096590909090909\n",
      "17\n",
      "Model: Decision Tree\n",
      "Accuracy_Train 0.881155303030303\n",
      "Accuracy_Valid  0.8153409090909091\n",
      "18\n",
      "Model: Decision Tree\n",
      "Accuracy_Train 0.8847064393939394\n",
      "Accuracy_Valid  0.8134469696969697\n",
      "19\n",
      "Model: Decision Tree\n",
      "Accuracy_Train 0.8873106060606061\n",
      "Accuracy_Valid  0.8172348484848485\n",
      "20\n",
      "Model: Decision Tree\n",
      "Accuracy_Train 0.8915719696969697\n",
      "Accuracy_Valid  0.8143939393939394\n",
      "21\n",
      "Model: Decision Tree\n",
      "Accuracy_Train 0.8941761363636364\n",
      "Accuracy_Valid  0.8125\n",
      "22\n",
      "Model: Decision Tree\n",
      "Accuracy_Train 0.896780303030303\n",
      "Accuracy_Valid  0.8115530303030303\n",
      "23\n",
      "Model: Decision Tree\n",
      "Accuracy_Train 0.8979640151515151\n",
      "Accuracy_Valid  0.8125\n",
      "24\n",
      "Model: Decision Tree\n"
     ]
    }
   ],
   "source": [
    "v_accuracy = np.array([])\n",
    "for d in np.arange(1,41):\n",
    "    print(d)\n",
    "    accuracy = (model('dTree', d, s_all_data , s_all_label, s_valid_data, \n",
    "                     s_valid_label, s_train_data, s_train_label,\n",
    "                     s_features, 'train', s_test_data))\n",
    "    v_accuracy = np.append(v_accuracy, accuracy)\n"
   ]
  },
  {
   "cell_type": "code",
   "execution_count": null,
   "id": "56743d82",
   "metadata": {},
   "outputs": [],
   "source": [
    "plt.plot(np.arange(1,41), v_accuracy)\n",
    "plt.xlabel(\"Depth\")\n",
    "plt.ylabel(\"Validation Accuracy\")\n",
    "plt.title(\"Depth VS Accuracy\")"
   ]
  },
  {
   "cell_type": "markdown",
   "id": "2b390bf5",
   "metadata": {},
   "source": [
    "QUESTION 4.5.2"
   ]
  },
  {
   "cell_type": "code",
   "execution_count": null,
   "id": "d69b9560",
   "metadata": {},
   "outputs": [],
   "source": [
    "spam_tree = DecisionTree(3, feature_labels=s_features)\n",
    "spam_tree.fit(s_train_data,s_train_label)\n",
    "bfs(spam_tree)"
   ]
  },
  {
   "cell_type": "markdown",
   "id": "f1e3f69b",
   "metadata": {},
   "source": [
    "Question 4.6"
   ]
  },
  {
   "cell_type": "code",
   "execution_count": null,
   "id": "cf081c6e",
   "metadata": {},
   "outputs": [],
   "source": [
    "titanic_tree = DecisionTree(3, feature_labels=t_features)\n",
    "titanic_tree.fit(t_train_data,t_train_label)\n",
    "bfs(titanic_tree)"
   ]
  }
 ],
 "metadata": {
  "kernelspec": {
   "display_name": "Python 3 (ipykernel)",
   "language": "python",
   "name": "python3"
  },
  "language_info": {
   "codemirror_mode": {
    "name": "ipython",
    "version": 3
   },
   "file_extension": ".py",
   "mimetype": "text/x-python",
   "name": "python",
   "nbconvert_exporter": "python",
   "pygments_lexer": "ipython3",
   "version": "3.9.13"
  }
 },
 "nbformat": 4,
 "nbformat_minor": 5
}
